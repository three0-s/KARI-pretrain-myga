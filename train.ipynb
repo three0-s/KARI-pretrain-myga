{
 "cells": [
  {
   "cell_type": "markdown",
   "metadata": {},
   "source": [
    "#### KARI-AIFACTORY Satellite Container Detection Competition\n",
    "\n",
    "- MYGA team submission\n",
    "- Env: Refer to the docker file \n"
   ]
  },
  {
   "cell_type": "code",
   "execution_count": 1,
   "metadata": {},
   "outputs": [
    {
     "name": "stdout",
     "output_type": "stream",
     "text": [
      "/root/myga_pretrain\n",
      "[Errno 2] No such file or directory: 'YOUR_ROOT'\n",
      "/root/myga_pretrain\n",
      "/root/myga_pretrain\n"
     ]
    }
   ],
   "source": [
    "# Check your current working directory, and change directory to the root of this repo.\n",
    "!pwd\n",
    "%cd YOUR_ROOT\n",
    "!pwd"
   ]
  },
  {
   "cell_type": "code",
   "execution_count": null,
   "metadata": {},
   "outputs": [],
   "source": [
    "%pip install torch==1.7.1+cu110 torchvision==0.8.2+cu110 torchaudio==0.7.2 -f https://download.pytorch.org/whl/torch_stable.html"
   ]
  },
  {
   "cell_type": "code",
   "execution_count": null,
   "metadata": {},
   "outputs": [],
   "source": [
    "# ImageNet-1K Preparation \n",
    "!bash data.sh"
   ]
  },
  {
   "cell_type": "code",
   "execution_count": null,
   "metadata": {},
   "outputs": [],
   "source": [
    "!CUDA_VISIBLE_DEVICES=0,1,2,3,4,5,6,7 bash distributed_train.sh 8 imagenet --model lsknet_s -b 128 --lr 1e-3 --drop-path 0.1 --amp --epochs 300 --model-ema"
   ]
  },
  {
   "cell_type": "code",
   "execution_count": 7,
   "metadata": {},
   "outputs": [],
   "source": [
    "# extract backbone \n",
    "\n",
    "!python extract.py --path \"MODEL_CHECKPOINT.pth.tar\""
   ]
  }
 ],
 "metadata": {
  "kernelspec": {
   "display_name": "Python 3",
   "language": "python",
   "name": "python3"
  },
  "language_info": {
   "codemirror_mode": {
    "name": "ipython",
    "version": 3
   },
   "file_extension": ".py",
   "mimetype": "text/x-python",
   "name": "python",
   "nbconvert_exporter": "python",
   "pygments_lexer": "ipython3",
   "version": "3.8.10"
  },
  "orig_nbformat": 4
 },
 "nbformat": 4,
 "nbformat_minor": 2
}
